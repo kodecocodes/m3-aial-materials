{
 "cells": [
  {
   "cell_type": "code",
   "execution_count": 5,
   "id": "6055c584-3fea-4d4d-9e26-ba3da7d07186",
   "metadata": {},
   "outputs": [
    {
     "data": {
      "text/plain": [
       "True"
      ]
     },
     "execution_count": 5,
     "metadata": {},
     "output_type": "execute_result"
    }
   ],
   "source": [
    "from dotenv import load_dotenv\n",
    "load_dotenv()"
   ]
  },
  {
   "cell_type": "code",
   "execution_count": 7,
   "id": "f6e60311-b0e9-47ad-8b25-1bd63b97fbfe",
   "metadata": {},
   "outputs": [],
   "source": [
    "import os\n",
    "from openai import OpenAI\n",
    "\n",
    "llm = OpenAI(api_key=os.getenv(\"OPENAI_API_KEY\"))"
   ]
  },
  {
   "cell_type": "code",
   "execution_count": 8,
   "id": "2900b320-8a61-4edf-9990-a08601495153",
   "metadata": {},
   "outputs": [],
   "source": [
    "def translate(text):\n",
    "    if text == \"hello\":\n",
    "        return \"hola\"\n",
    "    elif text == \"goodbye\":\n",
    "        return \"adiós\"\n",
    "    else:\n",
    "        return \"UNKNOWN\""
   ]
  },
  {
   "cell_type": "code",
   "execution_count": 13,
   "id": "9200ba72-b563-4d3c-891a-d8f6fc177eae",
   "metadata": {},
   "outputs": [],
   "source": [
    "def ai_agent(user_input):\n",
    "    \n",
    "    prompt = \"\"\"Analyze if the user is asking for a translation. \n",
    "      If so, respond with 'TRANSLATE:text' where `text` is the text to translate. \n",
    "      Do not translate the text yourself. Otherwise, respond normally. \n",
    "      For example, if the user says 'How do you say hello in Spanish?' \n",
    "      you should respond 'TRANSLATE:hello' \"\"\"\n",
    "    \n",
    "    completion = llm.chat.completions.create(\n",
    "      model=\"gpt-4o\",\n",
    "      messages=[\n",
    "        {\"role\": \"system\", \"content\": prompt},\n",
    "        {\"role\": \"user\", \"content\": user_input}\n",
    "      ]\n",
    "    )\n",
    "\n",
    "    response = completion.choices[0].message.content\n",
    "\n",
    "    if response.startswith(\"TRANSLATE:\"):\n",
    "        parts = response.split(\":\", 2)\n",
    "        if len(parts) == 2:\n",
    "            text = parts[1]\n",
    "            return translate(text)\n",
    "    return response"
   ]
  },
  {
   "cell_type": "code",
   "execution_count": 17,
   "id": "8c0ea264-8006-4091-b9b0-282d44d1882a",
   "metadata": {},
   "outputs": [
    {
     "name": "stdout",
     "output_type": "stream",
     "text": [
      "adiós\n"
     ]
    }
   ],
   "source": [
    "user_input = \"How do you say goodbye in Spanish?\"\n",
    "result = ai_agent(user_input)\n",
    "print(result)"
   ]
  }
 ],
 "metadata": {
  "kernelspec": {
   "display_name": "Python 3 (ipykernel)",
   "language": "python",
   "name": "python3"
  },
  "language_info": {
   "codemirror_mode": {
    "name": "ipython",
    "version": 3
   },
   "file_extension": ".py",
   "mimetype": "text/x-python",
   "name": "python",
   "nbconvert_exporter": "python",
   "pygments_lexer": "ipython3",
   "version": "3.12.4"
  }
 },
 "nbformat": 4,
 "nbformat_minor": 5
}
