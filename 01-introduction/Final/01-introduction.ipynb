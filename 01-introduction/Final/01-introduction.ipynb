{
 "cells": [
  {
   "cell_type": "markdown",
   "id": "dd386067-8061-40c9-915a-8e9eda352e6e",
   "metadata": {},
   "source": [
    "Add a file named `.env` in the same folder as this file and put your OpenAI API key in there:\n",
    "\n",
    "```\n",
    "OPENAI_API_KEY=<your key>\n",
    "```"
   ]
  },
  {
   "cell_type": "code",
   "execution_count": 4,
   "id": "f5a27d4f-777f-462d-b879-dd36ccbd79bd",
   "metadata": {},
   "outputs": [],
   "source": [
    "from dotenv import load_dotenv\n",
    "from openai import OpenAI\n",
    "import os\n",
    "\n",
    "load_dotenv()\n",
    "\n",
    "client = OpenAI(api_key=os.getenv(\"OPENAI_API_KEY\"))"
   ]
  },
  {
   "cell_type": "code",
   "execution_count": 9,
   "id": "39e4afa1",
   "metadata": {},
   "outputs": [
    {
     "name": "stdin",
     "output_type": "stream",
     "text": [
      "Enter your question or translation request:  hi\n"
     ]
    },
    {
     "name": "stdout",
     "output_type": "stream",
     "text": [
      "Hello! How can I assist you today?\n"
     ]
    }
   ],
   "source": [
    "# The official Google Translate API is complicated to set up and the unofficial googletrans API \n",
    "# wasn't working for me, so in the first lesson I'm going to just use a function that returns\n",
    "# some hard-coded strings. In future lessons this can be replaced with an AI Agent.\n",
    "def translate(text, language_code):\n",
    "    if language_code.lower() != \"es\":\n",
    "        return \"UNKNOWN LANGUAGE\"\n",
    "\n",
    "    if text == \"hello\":\n",
    "        return \"hola\"\n",
    "    elif text == \"how are you\":\n",
    "        return \"¿Cómo estás?\"\n",
    "    elif text == \"goodbye\":\n",
    "        return \"adiós\"\n",
    "    else:\n",
    "        return \"UNKNOWN\"\n",
    "\n",
    "\n",
    "def ai_agent(user_input):\n",
    "    completion = client.chat.completions.create(\n",
    "      model=\"gpt-4o\",\n",
    "      messages=[\n",
    "        {\"role\": \"system\", \"content\": \"Analyze if the user is asking for a translation. If so, respond with 'TRANSLATE:language:text' where language is the target language code (e.g., 'es' for Spanish) and text is the text to translate in the input language. Do not translate the text yourself. Otherwise, respond normally. For example, if the user says 'How do you say hello in spanish?' you should respond TRANSLATE:es:'hola'\"},\n",
    "        {\"role\": \"user\", \"content\": user_input}\n",
    "      ]\n",
    "    )\n",
    "    \n",
    "    response = completion.choices[0].message.content\n",
    "    \n",
    "    if response.startswith(\"TRANSLATE:\"):\n",
    "        parts = response.split(\":\", 2)\n",
    "        if len(parts) == 3:\n",
    "            language_code = parts[1].strip()\n",
    "            text_to_translate = parts[2].strip(\"'\")\n",
    "            return translate(text_to_translate, language_code)\n",
    "    return response    \n",
    "    \n",
    "\n",
    "user_input = input(\"Enter your question or translation request: \")\n",
    "result = ai_agent(user_input)\n",
    "print(result)\n"
   ]
  },
  {
   "cell_type": "code",
   "execution_count": null,
   "id": "dc29ddc9-1366-48ff-8cc8-356081495faa",
   "metadata": {},
   "outputs": [],
   "source": []
  }
 ],
 "metadata": {
  "kernelspec": {
   "display_name": "Python 3 (ipykernel)",
   "language": "python",
   "name": "python3"
  },
  "language_info": {
   "codemirror_mode": {
    "name": "ipython",
    "version": 3
   },
   "file_extension": ".py",
   "mimetype": "text/x-python",
   "name": "python",
   "nbconvert_exporter": "python",
   "pygments_lexer": "ipython3",
   "version": "3.12.4"
  }
 },
 "nbformat": 4,
 "nbformat_minor": 5
}
