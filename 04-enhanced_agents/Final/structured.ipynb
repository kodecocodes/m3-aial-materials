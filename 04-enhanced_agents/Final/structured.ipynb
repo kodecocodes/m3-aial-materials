{
 "cells": [
  {
   "cell_type": "code",
   "execution_count": 1,
   "id": "a977c582-7eed-42fd-87fb-f21fee902232",
   "metadata": {},
   "outputs": [
    {
     "data": {
      "text/plain": [
       "True"
      ]
     },
     "execution_count": 1,
     "metadata": {},
     "output_type": "execute_result"
    }
   ],
   "source": [
    "from dotenv import load_dotenv\n",
    "load_dotenv()"
   ]
  },
  {
   "cell_type": "code",
   "execution_count": 12,
   "id": "9bab32ec-b5b4-4175-a281-6c8faf8df143",
   "metadata": {},
   "outputs": [],
   "source": [
    "import os\n",
    "from langchain_openai import ChatOpenAI\n",
    "\n",
    "llm = ChatOpenAI(\n",
    "  api_key=os.getenv(\"OPENAI_API_KEY\"),\n",
    "  temperature=1.0\n",
    ")"
   ]
  },
  {
   "cell_type": "code",
   "execution_count": 34,
   "id": "f2d1d01c-8112-4569-b9e0-b4a87017efbe",
   "metadata": {},
   "outputs": [],
   "source": [
    "# from langchain_core.pydantic_v1 import BaseModel, Field\n",
    "\n",
    "# # Pydantic\n",
    "# class Person(BaseModel):\n",
    "#   \"\"\"Profile of a human.\"\"\"\n",
    "\n",
    "#   name: str = Field(description=\"The person's name\")\n",
    "#   age: int = Field(description=\"The person's age, between 1 and 100\")\n",
    "\n",
    "from typing_extensions import Annotated, TypedDict\n",
    "\n",
    "# TypedDict\n",
    "class Person(TypedDict):\n",
    "  \"\"\"Profile of a human.\"\"\"\n",
    "\n",
    "  name: Annotated[str, ..., \"The person's name\"]\n",
    "  age: Annotated[int, ..., \"The person's age\"]"
   ]
  },
  {
   "cell_type": "code",
   "execution_count": 35,
   "id": "38435d4f-1323-4a84-aa8d-40caa3e575c3",
   "metadata": {},
   "outputs": [
    {
     "data": {
      "text/plain": [
       "{'name': 'Eliana', 'age': 28}"
      ]
     },
     "execution_count": 35,
     "metadata": {},
     "output_type": "execute_result"
    }
   ],
   "source": [
    "structured_llm = llm.with_structured_output(Person)\n",
    "structured_llm.invoke(\"Create a random character for a story.\")"
   ]
  },
  {
   "cell_type": "code",
   "execution_count": 28,
   "id": "1a0480b9-dca1-41bb-8e33-39ec2a086c65",
   "metadata": {},
   "outputs": [],
   "source": []
  },
  {
   "cell_type": "code",
   "execution_count": null,
   "id": "155cb483-323a-4ad6-a1a9-869a822b3493",
   "metadata": {},
   "outputs": [],
   "source": []
  }
 ],
 "metadata": {
  "kernelspec": {
   "display_name": "Python 3 (ipykernel)",
   "language": "python",
   "name": "python3"
  },
  "language_info": {
   "codemirror_mode": {
    "name": "ipython",
    "version": 3
   },
   "file_extension": ".py",
   "mimetype": "text/x-python",
   "name": "python",
   "nbconvert_exporter": "python",
   "pygments_lexer": "ipython3",
   "version": "3.12.4"
  }
 },
 "nbformat": 4,
 "nbformat_minor": 5
}
