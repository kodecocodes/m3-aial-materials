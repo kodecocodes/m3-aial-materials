{
 "cells": [
  {
   "cell_type": "code",
   "execution_count": 19,
   "id": "7d68904d-5a34-42db-a8de-c7e3e812893f",
   "metadata": {},
   "outputs": [],
   "source": [
    "from typing import TypedDict, Annotated, Sequence\n",
    "from operator import add\n",
    "\n",
    "class State(TypedDict):\n",
    "  messages: Annotated[Sequence[str], add]\n",
    "\n",
    "def function_1(state):\n",
    "  return {\"messages\": [\"uno\"]}\n",
    "\n",
    "def function_2(state):\n",
    "  return {\"messages\": [\"dos\"]}\n",
    "\n",
    "def function_3(state):\n",
    "  return {\"messages\": [\"tres\"]}"
   ]
  },
  {
   "cell_type": "code",
   "execution_count": 20,
   "id": "5428fb09-ca13-467a-b818-44141ab4fd3d",
   "metadata": {},
   "outputs": [],
   "source": [
    "from langgraph.graph import StateGraph, START, END\n",
    "\n",
    "graph = StateGraph(State)\n",
    "graph.add_node(\"node_1\", function_1)\n",
    "graph.add_node(\"node_2\", function_2)\n",
    "graph.add_node(\"node_3\", function_3)\n",
    "graph.add_edge(START, \"node_1\")\n",
    "graph.add_edge(\"node_1\", \"node_2\")\n",
    "graph.add_edge(\"node_2\", \"node_3\")\n",
    "graph.add_edge(\"node_3\", END)"
   ]
  },
  {
   "cell_type": "code",
   "execution_count": 21,
   "id": "d898d7a1-7684-4ddd-adaa-e71e2e28b802",
   "metadata": {},
   "outputs": [
    {
     "data": {
      "text/plain": [
       "{'messages': ['hola', 'uno', 'dos', 'tres']}"
      ]
     },
     "execution_count": 21,
     "metadata": {},
     "output_type": "execute_result"
    }
   ],
   "source": [
    "from langgraph.checkpoint.memory import MemorySaver\n",
    "\n",
    "memory = MemorySaver()\n",
    "app = graph.compile(checkpointer=memory)\n",
    "user_input = {\"messages\": [\"hola\"]}\n",
    "thread = {\"configurable\": {\"thread_id\": \"1\"}}\n",
    "app.invoke(user_input, thread)"
   ]
  },
  {
   "cell_type": "code",
   "execution_count": 22,
   "id": "f7e54179-1aba-4d19-a7aa-2998ea497b51",
   "metadata": {},
   "outputs": [
    {
     "name": "stdout",
     "output_type": "stream",
     "text": [
      "StateSnapshot(values={'messages': ['hola', 'uno', 'dos', 'tres']}, next=(), config={'configurable': {'thread_id': '1', 'thread_ts': '1ef6c516-4655-6fe6-8003-2635a073af23'}}, metadata={'source': 'loop', 'writes': {'node_3': {'messages': ['tres']}}, 'step': 3}, created_at='2024-09-06T13:10:30.429056+00:00', parent_config={'configurable': {'thread_id': '1', 'thread_ts': '1ef6c516-4651-6428-8002-69f5d744fea9'}})\n",
      "--\n",
      "StateSnapshot(values={'messages': ['hola', 'uno', 'dos']}, next=('node_3',), config={'configurable': {'thread_id': '1', 'thread_ts': '1ef6c516-4651-6428-8002-69f5d744fea9'}}, metadata={'source': 'loop', 'writes': {'node_2': {'messages': ['dos']}}, 'step': 2}, created_at='2024-09-06T13:10:30.427115+00:00', parent_config={'configurable': {'thread_id': '1', 'thread_ts': '1ef6c516-4649-64c6-8001-57cd5883bb73'}})\n",
      "--\n",
      "StateSnapshot(values={'messages': ['hola', 'uno']}, next=('node_2',), config={'configurable': {'thread_id': '1', 'thread_ts': '1ef6c516-4649-64c6-8001-57cd5883bb73'}}, metadata={'source': 'loop', 'writes': {'node_1': {'messages': ['uno']}}, 'step': 1}, created_at='2024-09-06T13:10:30.423843+00:00', parent_config={'configurable': {'thread_id': '1', 'thread_ts': '1ef6c516-463c-6438-8000-7c08e3495787'}})\n",
      "--\n",
      "StateSnapshot(values={'messages': ['hola']}, next=('node_1',), config={'configurable': {'thread_id': '1', 'thread_ts': '1ef6c516-463c-6438-8000-7c08e3495787'}}, metadata={'source': 'loop', 'writes': None, 'step': 0}, created_at='2024-09-06T13:10:30.418509+00:00', parent_config={'configurable': {'thread_id': '1', 'thread_ts': '1ef6c516-4633-6950-bfff-0056d3906632'}})\n",
      "--\n",
      "StateSnapshot(values={'messages': []}, next=('__start__',), config={'configurable': {'thread_id': '1', 'thread_ts': '1ef6c516-4633-6950-bfff-0056d3906632'}}, metadata={'source': 'input', 'writes': {'messages': ['hola']}, 'step': -1}, created_at='2024-09-06T13:10:30.414965+00:00', parent_config=None)\n",
      "--\n"
     ]
    }
   ],
   "source": [
    "for state in app.get_state_history(thread):\n",
    "  print(state)\n",
    "  print(\"--\")"
   ]
  },
  {
   "cell_type": "code",
   "execution_count": null,
   "id": "6e94ab71-627e-4e30-ab70-455a7c335cad",
   "metadata": {},
   "outputs": [],
   "source": []
  }
 ],
 "metadata": {
  "kernelspec": {
   "display_name": "Python 3 (ipykernel)",
   "language": "python",
   "name": "python3"
  },
  "language_info": {
   "codemirror_mode": {
    "name": "ipython",
    "version": 3
   },
   "file_extension": ".py",
   "mimetype": "text/x-python",
   "name": "python",
   "nbconvert_exporter": "python",
   "pygments_lexer": "ipython3",
   "version": "3.12.4"
  }
 },
 "nbformat": 4,
 "nbformat_minor": 5
}
