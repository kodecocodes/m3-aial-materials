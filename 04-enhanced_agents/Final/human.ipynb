{
 "cells": [
  {
   "cell_type": "code",
   "execution_count": 156,
   "id": "17445f48-b105-41f2-91d4-96afcbcd3b1c",
   "metadata": {},
   "outputs": [],
   "source": [
    "from typing import TypedDict\n",
    "from langgraph.graph import StateGraph, START, END\n",
    "from langgraph.checkpoint.memory import MemorySaver\n",
    "from IPython.display import Image, display\n",
    "\n",
    "class State(TypedDict):\n",
    "    should_launch: bool"
   ]
  },
  {
   "cell_type": "code",
   "execution_count": 157,
   "id": "f3fef430-f9b9-47f8-8477-7d9700fe36cf",
   "metadata": {},
   "outputs": [],
   "source": [
    "def start_engines(state):\n",
    "    print(\"Starting engines...\")\n",
    "    return state\n",
    "\n",
    "def launch_spaceship(state):\n",
    "    print(\"Launching spaceship!\")\n",
    "    return state"
   ]
  },
  {
   "cell_type": "code",
   "execution_count": 158,
   "id": "a7d771a3-cc5c-4a4f-9dd0-4ba01a33d37f",
   "metadata": {},
   "outputs": [],
   "source": [
    "def human_review(state):\n",
    "    print(\"Perform human review\")\n",
    "    return state\n",
    "\n",
    "def route_chooser(state):\n",
    "    if state['should_launch']:\n",
    "        return \"launch_spaceship\"\n",
    "    else:\n",
    "        print(\"Launch aborted.\")\n",
    "        return END"
   ]
  },
  {
   "cell_type": "code",
   "execution_count": 159,
   "id": "7d34cee8-179e-458e-be59-497459dff3bf",
   "metadata": {},
   "outputs": [],
   "source": [
    "graph = StateGraph(State)\n",
    "\n",
    "graph.add_node(\"start_engines\", start_engines)\n",
    "graph.add_node(\"human_review\", human_review)\n",
    "graph.add_node(\"launch_spaceship\", launch_spaceship)\n",
    "\n",
    "# Add edges\n",
    "graph.add_edge(START, \"start_engines\")\n",
    "graph.add_edge(\"start_engines\", \"human_review\")\n",
    "graph.add_conditional_edges(\"human_review\", route_chooser)\n",
    "graph.add_edge(\"launch_spaceship\", END)"
   ]
  },
  {
   "cell_type": "code",
   "execution_count": 160,
   "id": "9d21732c-4562-4bc6-975c-5c5f34106af6",
   "metadata": {},
   "outputs": [],
   "source": [
    "memory = MemorySaver()\n",
    "app = graph.compile(checkpointer=memory, interrupt_before=[\"human_review\"])"
   ]
  },
  {
   "cell_type": "code",
   "execution_count": 161,
   "id": "e0736801-e8d2-4328-bf5f-feb7a1b2160d",
   "metadata": {},
   "outputs": [
    {
     "data": {
      "image/jpeg": "[encoded data removed]",
      "text/plain": [
       "<IPython.core.display.Image object>"
      ]
     },
     "metadata": {},
     "output_type": "display_data"
    }
   ],
   "source": [
    "display(Image(compiled_graph.get_graph().draw_mermaid_png()))"
   ]
  },
  {
   "cell_type": "code",
   "execution_count": 162,
   "id": "9319860f-1bb4-466b-8f65-0f0c609c69bb",
   "metadata": {},
   "outputs": [
    {
     "name": "stdout",
     "output_type": "stream",
     "text": [
      "Starting engines...\n"
     ]
    }
   ],
   "source": [
    "initial_input = {\"should_launch\": False}\n",
    "thread = {\"configurable\": {\"thread_id\": \"1\"}}\n",
    "result = app.invoke(initial_input, thread)"
   ]
  },
  {
   "cell_type": "code",
   "execution_count": 163,
   "id": "a68ac538-bafc-4ef8-991d-a4bec34343cf",
   "metadata": {},
   "outputs": [
    {
     "data": {
      "text/plain": [
       "('human_review',)"
      ]
     },
     "execution_count": 163,
     "metadata": {},
     "output_type": "execute_result"
    }
   ],
   "source": [
    "app.get_state(thread).next"
   ]
  },
  {
   "cell_type": "code",
   "execution_count": 164,
   "id": "23ad55b1-11d8-4f7f-b1ec-5476004ce543",
   "metadata": {},
   "outputs": [
    {
     "name": "stdin",
     "output_type": "stream",
     "text": [
      "Do you confirm the launch? (yes/no):  yes\n"
     ]
    }
   ],
   "source": [
    "user_input = input(\"Do you confirm the launch? (yes/no): \")\n",
    "should_launch = user_input == 'yes'"
   ]
  },
  {
   "cell_type": "code",
   "execution_count": 124,
   "id": "b5d9ca8b-8f1c-41be-a8fa-86d245b1e77e",
   "metadata": {},
   "outputs": [
    {
     "data": {
      "text/plain": [
       "{'should_launch': False}"
      ]
     },
     "execution_count": 124,
     "metadata": {},
     "output_type": "execute_result"
    }
   ],
   "source": [
    "app.get_state(thread).values"
   ]
  },
  {
   "cell_type": "code",
   "execution_count": 126,
   "id": "5f0a1403-f795-4958-941e-56ef20acda7b",
   "metadata": {},
   "outputs": [
    {
     "data": {
      "text/plain": [
       "{'configurable': {'thread_id': '1',\n",
       "  'thread_ts': '1ef6c8be-495a-679a-8003-aa3dcce72d4e'}}"
      ]
     },
     "execution_count": 126,
     "metadata": {},
     "output_type": "execute_result"
    }
   ],
   "source": [
    "app.update_state(thread, {'should_launch': should_launch})"
   ]
  },
  {
   "cell_type": "code",
   "execution_count": 127,
   "id": "020fc2a6-b03d-439d-b70e-e7e1f37a0904",
   "metadata": {},
   "outputs": [
    {
     "data": {
      "text/plain": [
       "{'should_launch': True}"
      ]
     },
     "execution_count": 127,
     "metadata": {},
     "output_type": "execute_result"
    }
   ],
   "source": [
    "app.get_state(thread).values"
   ]
  },
  {
   "cell_type": "code",
   "execution_count": 128,
   "id": "512898be-021a-4f81-b380-4d54c3bd82ee",
   "metadata": {},
   "outputs": [
    {
     "name": "stdout",
     "output_type": "stream",
     "text": [
      "Perform human review\n",
      "Launching spaceship!\n"
     ]
    }
   ],
   "source": [
    "result = app.invoke(None, thread)"
   ]
  },
  {
   "cell_type": "code",
   "execution_count": 129,
   "id": "edfcccab-8e98-4c8b-aab1-a2f0d8bf1240",
   "metadata": {},
   "outputs": [
    {
     "data": {
      "text/plain": [
       "()"
      ]
     },
     "execution_count": 129,
     "metadata": {},
     "output_type": "execute_result"
    }
   ],
   "source": [
    "app.get_state(thread).next"
   ]
  },
  {
   "cell_type": "code",
   "execution_count": null,
   "id": "5a2c9dba-836d-40a6-97a4-89b2a1732dac",
   "metadata": {},
   "outputs": [],
   "source": []
  }
 ],
 "metadata": {
  "kernelspec": {
   "display_name": "Python 3 (ipykernel)",
   "language": "python",
   "name": "python3"
  },
  "language_info": {
   "codemirror_mode": {
    "name": "ipython",
    "version": 3
   },
   "file_extension": ".py",
   "mimetype": "text/x-python",
   "name": "python",
   "nbconvert_exporter": "python",
   "pygments_lexer": "ipython3",
   "version": "3.12.4"
  }
 },
 "nbformat": 4,
 "nbformat_minor": 5
}
