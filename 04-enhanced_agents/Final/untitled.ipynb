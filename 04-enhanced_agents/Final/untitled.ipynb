{
 "cells": [
  {
   "cell_type": "code",
   "execution_count": 38,
   "id": "8775ace4-f369-4772-a258-5de3b2e162a5",
   "metadata": {},
   "outputs": [],
   "source": [
    "from langgraph.graph import Graph\n",
    "\n",
    "graph = Graph()\n",
    "\n",
    "def function_1(input):\n",
    "  return \"output\"\n",
    "\n",
    "def function_2(input):\n",
    "  return \"output\"\n",
    "\n",
    "graph.add_node(\"node_1\", function_1)\n",
    "graph.add_node(\"node_2\", function_2)\n",
    "graph.add_edge(\"node_1\", \"node_2\")"
   ]
  },
  {
   "cell_type": "code",
   "execution_count": 39,
   "id": "13a66136-fb71-478e-98d9-e4e535ee38b5",
   "metadata": {},
   "outputs": [],
   "source": [
    "from langgraph.graph import StateGraph, START, END\n",
    "from typing import TypedDict, Annotated, Sequence\n",
    "from operator import add\n",
    "\n",
    "class MyState(TypedDict):\n",
    "  messages: Annotated[list, add]\n",
    "  count: int\n",
    "\n",
    "def function_1(state):\n",
    "  return state\n",
    "\n",
    "def function_2(state):\n",
    "  return state\n",
    "\n",
    "def function_3(state):\n",
    "  return state\n",
    "\n",
    "graph = StateGraph(MyState)\n",
    "graph.add_node(\"node_1\", function_1)\n",
    "graph.add_node(\"node_2\", function_2)\n",
    "graph.add_node(\"node_3\", function_3)\n",
    "graph.add_edge(START, \"node_1\")\n",
    "graph.add_edge(\"node_1\", \"node_2\")\n",
    "graph.add_edge(\"node_2\", \"node_3\")\n",
    "graph.add_edge(\"node_3\", END)"
   ]
  },
  {
   "cell_type": "code",
   "execution_count": 40,
   "id": "8d8a8d3f-23ba-4f6d-a75b-d10152734211",
   "metadata": {},
   "outputs": [],
   "source": [
    "from langgraph.checkpoint.memory import MemorySaver\n",
    "\n",
    "graph = StateGraph(State)\n",
    "memory = MemorySaver()\n",
    "app = graph.compile(checkpointer=memory)"
   ]
  },
  {
   "cell_type": "code",
   "execution_count": 41,
   "id": "59b41def-a28e-4acb-9edc-1b2638eae7b0",
   "metadata": {},
   "outputs": [
    {
     "data": {
      "text/plain": [
       "{'messages': ['hello']}"
      ]
     },
     "execution_count": 41,
     "metadata": {},
     "output_type": "execute_result"
    }
   ],
   "source": [
    "memory = MemorySaver()\n",
    "app = graph.compile(checkpointer=memory)\n",
    "\n",
    "user_input = {\"messages\": [\"hello\"]}\n",
    "thread = {\"configurable\": {\"thread_id\": \"1\"}}\n",
    "app.invoke(user_input, thread)"
   ]
  },
  {
   "cell_type": "code",
   "execution_count": null,
   "id": "ac46fbde-8556-4e62-ae76-2a226bb53ab6",
   "metadata": {},
   "outputs": [],
   "source": [
    "from langgraph.graph import StateGraph, START, END\n",
    "from langgraph.checkpoint.memory import MemorySaver\n",
    "from typing import TypedDict, Annotated, Sequence\n",
    "from operator import add\n",
    "\n",
    "class State(TypedDict):\n",
    "  messages: Annotated[Sequence[str], add]\n",
    "\n",
    "def function_1(state):\n",
    "  return {\"messages\": [\"one\"]}\n",
    "\n",
    "def function_2(state):\n",
    "  return {\"messages\": [\"two\"]}\n",
    "\n",
    "def function_3(state):\n",
    "  return {\"messages\": [\"three\"]}\n",
    "\n",
    "graph = StateGraph(State)\n",
    "graph.add_node(\"node_1\", function_1)\n",
    "graph.add_node(\"node_2\", function_2)\n",
    "graph.add_node(\"node_3\", function_3)\n",
    "graph.add_edge(START, \"node_1\")\n",
    "graph.add_edge(\"node_1\", \"node_2\")\n",
    "graph.add_edge(\"node_2\", \"node_3\")\n",
    "graph.add_edge(\"node_3\", END)\n",
    "\n",
    "memory = MemorySaver()\n",
    "app = graph.compile(checkpointer=memory)\n",
    "user_input = {\"messages\": [\"hello\"]}\n",
    "thread = {\"configurable\": {\"thread_id\": \"1\"}}\n",
    "app.invoke(user_input, thread)\n",
    "\n",
    "for state in app.get_state_history(thread):\n",
    "    print(state)\n",
    "    print(\"--\")"
   ]
  }
 ],
 "metadata": {
  "kernelspec": {
   "display_name": "Python 3 (ipykernel)",
   "language": "python",
   "name": "python3"
  },
  "language_info": {
   "codemirror_mode": {
    "name": "ipython",
    "version": 3
   },
   "file_extension": ".py",
   "mimetype": "text/x-python",
   "name": "python",
   "nbconvert_exporter": "python",
   "pygments_lexer": "ipython3",
   "version": "3.12.4"
  }
 },
 "nbformat": 4,
 "nbformat_minor": 5
}
