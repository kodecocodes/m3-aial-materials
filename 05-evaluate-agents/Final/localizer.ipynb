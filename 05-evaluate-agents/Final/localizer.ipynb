{
 "cells": [
  {
   "cell_type": "code",
   "execution_count": 1,
   "id": "92c8580b-6f53-46ba-8b28-bad0dab607a1",
   "metadata": {},
   "outputs": [
    {
     "data": {
      "text/plain": [
       "True"
      ]
     },
     "execution_count": 1,
     "metadata": {},
     "output_type": "execute_result"
    }
   ],
   "source": [
    "from dotenv import load_dotenv\n",
    "load_dotenv()"
   ]
  },
  {
   "cell_type": "code",
   "execution_count": 2,
   "id": "54ae92c9-fc39-40b7-9fd4-df9ef158abf2",
   "metadata": {},
   "outputs": [],
   "source": [
    "import logging\n",
    "logging.basicConfig(\n",
    "    level=logging.INFO, \n",
    "    format='%(asctime)s - %(levelname)s - %(message)s',\n",
    "    # filename='app.log'\n",
    ")"
   ]
  },
  {
   "cell_type": "code",
   "execution_count": 3,
   "id": "7de2e207-291e-4dba-afa3-ed60d43e7bd4",
   "metadata": {},
   "outputs": [],
   "source": [
    "import yaml\n",
    "from base64 import b64encode\n",
    "\n",
    "def read_yaml_file(file_path):\n",
    "    with open(file_path, 'r') as file:\n",
    "        yaml_content = yaml.safe_load(file)\n",
    "        return yaml.dump(yaml_content, default_flow_style=False)\n",
    "\n",
    "def encode_image(image_path):\n",
    "    with open(image_path, \"rb\") as image_file:\n",
    "        return b64encode(image_file.read()).decode('utf-8')\n",
    "\n",
    "app_strings = read_yaml_file('save_puppy.yaml')\n",
    "screenshot = encode_image('save_puppy.png')"
   ]
  },
  {
   "cell_type": "code",
   "execution_count": 4,
   "id": "612da0a9-46f1-4091-86b3-5ae639df5955",
   "metadata": {},
   "outputs": [],
   "source": [
    "from langgraph.graph import StateGraph, START, END\n",
    "from typing import TypedDict, Annotated, Sequence\n",
    "from langchain_core.messages import BaseMessage, HumanMessage, AIMessage\n",
    "import operator\n",
    "import os\n",
    "from langchain_openai import ChatOpenAI\n",
    "\n",
    "class State(TypedDict):\n",
    "  messages: Annotated[Sequence[BaseMessage], operator.add]\n",
    "  contextualized: str\n",
    "  translation: str\n",
    "  advice: str\n",
    "\n",
    "llm = ChatOpenAI(\n",
    "  api_key=os.getenv(\"OPENAI_API_KEY\"),\n",
    "  model=\"gpt-4o\"\n",
    ")"
   ]
  },
  {
   "cell_type": "code",
   "execution_count": 5,
   "id": "83b3251d-deac-41f0-91a4-64571b51e384",
   "metadata": {},
   "outputs": [],
   "source": [
    "def contextualize(state):\n",
    "  logging.info(\"contextualizing\")\n",
    "  prompt = \"\"\"You are an expert in mobile app string localization and internationalization.\n",
    "  You are preparing app strings to be localized in another language by \n",
    "  providing additional context in English to help the translator. \n",
    "  Add comments to each line of the following text based on what you see in the image. \n",
    "  Use YAML style comments and put them on the line above the text being commented.\"\"\"\n",
    "  user = HumanMessage(content=[\n",
    "    {\"type\": \"text\", \"text\": prompt},\n",
    "    {\"type\": \"text\", \"text\": app_strings},\n",
    "    {\n",
    "      \"type\": \"image_url\",\n",
    "      \"image_url\": {\n",
    "        \"url\": f\"data:image/png;base64,{screenshot}\"\n",
    "      }\n",
    "    }\n",
    "  ])\n",
    "  state[\"messages\"].append(user)\n",
    "  response = llm.invoke([user])\n",
    "  return {\"messages\": [response], \"contextualized\": response.content}"
   ]
  },
  {
   "cell_type": "code",
   "execution_count": 6,
   "id": "2d8e2c7b-1045-4b42-b40a-861233744c3e",
   "metadata": {},
   "outputs": [],
   "source": [
    "def translate(state):\n",
    "  logging.info(\"translating\")\n",
    "  given_text = state[\"contextualized\"]\n",
    "  prompt = f\"\"\"You are a world-class translator. Translate the given text from English to Spanish. \n",
    "  Each line is commented and you should take those comments into consideration in order \n",
    "  to get an accurate translation. Don't translate the comments or the keys.\n",
    "  Given text: \n",
    "  {given_text}\n",
    "  \"\"\"\n",
    "  user = HumanMessage(content=prompt)\n",
    "  state[\"messages\"].append(user)\n",
    "  response = llm.invoke([user])\n",
    "  return {\"messages\": [response], \"translation\": response.content}"
   ]
  },
  {
   "cell_type": "code",
   "execution_count": 7,
   "id": "569bb838-88fd-48d9-972b-685dc16f71d8",
   "metadata": {},
   "outputs": [],
   "source": [
    "def check(state):\n",
    "  logging.info(\"checking\")\n",
    "  translation = state[\"translation\"]\n",
    "  prompt = f\"\"\"You are an expert in mobile app UI/UX and also cross-cultural communication.\n",
    "  A translator has submitted a translation for the strings of a UI layout.\n",
    "  Check the translation for accuracy. If the translation is good, reply with one \n",
    "  word: \"good\". However, if there is anything that is ambiguous or might be translated wrong, \n",
    "  reply with a paragraph expressing your concern.\n",
    "  {app_strings}\n",
    "  Here is the translation with contextual comments:\n",
    "  {translation}\n",
    "  \"\"\"\n",
    "  user = HumanMessage(content=prompt)\n",
    "  state[\"messages\"].append(user)\n",
    "  response = llm.invoke([user])\n",
    "  return {\"messages\": [response], \"advice\": response.content}"
   ]
  },
  {
   "cell_type": "code",
   "execution_count": 8,
   "id": "c6bc4be5-650e-4fe0-92b2-555b83aeb3b5",
   "metadata": {},
   "outputs": [],
   "source": [
    "def translation_good(state):\n",
    "  advice = state[\"advice\"]\n",
    "  logging.info(f\"translation: \\n{state[\"translation\"]}\\n\")\n",
    "  logging.info(f\"advice: {advice}\")\n",
    "  if advice == \"good\":\n",
    "    return \"good\"\n",
    "  else:\n",
    "    return \"problem\""
   ]
  },
  {
   "cell_type": "code",
   "execution_count": 9,
   "id": "e1af92f2-a4bf-4ee9-90f5-6e2a7a01f914",
   "metadata": {},
   "outputs": [],
   "source": [
    "def human_review(state):\n",
    "  return state"
   ]
  },
  {
   "cell_type": "code",
   "execution_count": 10,
   "id": "6b99e7c8-c53d-44ef-a837-ee5c8b8fe9c1",
   "metadata": {},
   "outputs": [],
   "source": [
    "def format_translation(state):\n",
    "  logging.info(\"formatting\")\n",
    "  translation = state[\"translation\"]\n",
    "  prompt = f\"\"\"The text below is a translation in YAML format. \n",
    "  The first step is to remove the comments. \n",
    "  The second step is to convert to format to the key-value pairs in a .strings file for iOS.\n",
    "  Don't change the key names or the translated text at all.\n",
    "  Don't make any commentary. Just give the output.\n",
    "  Here is the text:\n",
    "\n",
    "  {translation}\n",
    "  \"\"\"\n",
    "  user = HumanMessage(content=prompt)\n",
    "  state[\"messages\"].append(user)\n",
    "  response = llm.invoke([user])\n",
    "  return {\"messages\": [response]}"
   ]
  },
  {
   "cell_type": "code",
   "execution_count": 11,
   "id": "f2ca3ba4-cfc2-4f74-a05d-dab5f2d82562",
   "metadata": {},
   "outputs": [],
   "source": [
    "graph = StateGraph(State)\n",
    "\n",
    "graph.add_node(\"contextualizer\", contextualize)\n",
    "graph.add_edge(START, \"contextualizer\")\n",
    "\n",
    "graph.add_node(\"translator\", translate)\n",
    "graph.add_edge(\"contextualizer\", \"translator\")\n",
    "\n",
    "graph.add_node(\"checker\", check)\n",
    "graph.add_edge(\"translator\", \"checker\")\n",
    "\n",
    "graph.add_node(\"human_review\", human_review)\n",
    "graph.add_edge(\"human_review\", \"formatter\")\n",
    "\n",
    "graph.add_node(\"formatter\", format_translation)\n",
    "graph.add_conditional_edges(\n",
    "  \"checker\", \n",
    "  translation_good,\n",
    "  {\n",
    "    \"good\": \"formatter\", \n",
    "    \"problem\": \"human_review\"\n",
    "  }\n",
    ")\n",
    "graph.add_edge(\"formatter\", END)\n",
    "\n",
    "from langgraph.checkpoint.memory import MemorySaver\n",
    "\n",
    "memory = MemorySaver()\n",
    "app = graph.compile(checkpointer=memory, interrupt_before=[\"human_review\"])"
   ]
  },
  {
   "cell_type": "code",
   "execution_count": 12,
   "id": "1a946bf3-7c38-4d5a-adb2-7e2781339327",
   "metadata": {},
   "outputs": [
    {
     "data": {
      "image/jpeg": "[encoded data removed]",
      "text/plain": [
       "<IPython.core.display.Image object>"
      ]
     },
     "metadata": {},
     "output_type": "display_data"
    }
   ],
   "source": [
    "from IPython.display import Image, display\n",
    "\n",
    "display(Image(app.get_graph().draw_mermaid_png()))"
   ]
  },
  {
   "cell_type": "code",
   "execution_count": 13,
   "id": "e155782a-e3e3-4b1b-befb-1b6666955ed9",
   "metadata": {},
   "outputs": [
    {
     "name": "stderr",
     "output_type": "stream",
     "text": [
      "2024-09-12 16:38:57,759 - INFO - contextualizing\n",
      "2024-09-12 16:39:02,139 - INFO - HTTP Request: POST https://api.openai.com/v1/chat/completions \"HTTP/1.1 200 OK\"\n",
      "2024-09-12 16:39:02,171 - INFO - translating\n"
     ]
    },
    {
     "name": "stdout",
     "output_type": "stream",
     "text": [
      "{'contextualizer': {'messages': [AIMessage(content='```yaml\\n# Title of the dialog box asking a question\\ntitle: Question\\n\\n# Message asking the user if they want to save the puppy\\nmessage: Would you like to save the puppy?\\n\\n# Text for the button that discards the changes or action\\nnegative_button: Discard\\n\\n# Text for the button that saves the changes or action\\npositive_button: Save\\n```', response_metadata={'token_usage': {'completion_tokens': 77, 'prompt_tokens': 532, 'total_tokens': 609}, 'model_name': 'gpt-4o-2024-05-13', 'system_fingerprint': 'fp_992d1ea92d', 'finish_reason': 'stop', 'logprobs': None}, id='run-375c4f79-1708-4db1-88cc-dbb18b7bc4eb-0', usage_metadata={'input_tokens': 532, 'output_tokens': 77, 'total_tokens': 609})], 'contextualized': '```yaml\\n# Title of the dialog box asking a question\\ntitle: Question\\n\\n# Message asking the user if they want to save the puppy\\nmessage: Would you like to save the puppy?\\n\\n# Text for the button that discards the changes or action\\nnegative_button: Discard\\n\\n# Text for the button that saves the changes or action\\npositive_button: Save\\n```'}}\n"
     ]
    },
    {
     "name": "stderr",
     "output_type": "stream",
     "text": [
      "2024-09-12 16:39:11,324 - INFO - HTTP Request: POST https://api.openai.com/v1/chat/completions \"HTTP/1.1 200 OK\"\n",
      "2024-09-12 16:39:11,494 - INFO - checking\n"
     ]
    },
    {
     "name": "stdout",
     "output_type": "stream",
     "text": [
      "{'translator': {'messages': [AIMessage(content='```yaml\\n# Title of the dialog box asking a question\\ntitle: Pregunta\\n\\n# Message asking the user if they want to save the puppy\\nmessage: ¿Te gustaría salvar al cachorro?\\n\\n# Text for the button that discards the changes or action\\nnegative_button: Descartar\\n\\n# Text for the button that saves the changes or action\\npositive_button: Guardar\\n```', response_metadata={'token_usage': {'completion_tokens': 79, 'prompt_tokens': 140, 'total_tokens': 219}, 'model_name': 'gpt-4o-2024-05-13', 'system_fingerprint': 'fp_25624ae3a5', 'finish_reason': 'stop', 'logprobs': None}, id='run-18f8eaa3-ef27-4f43-8ea4-0b005ec1f8af-0', usage_metadata={'input_tokens': 140, 'output_tokens': 79, 'total_tokens': 219})], 'translation': '```yaml\\n# Title of the dialog box asking a question\\ntitle: Pregunta\\n\\n# Message asking the user if they want to save the puppy\\nmessage: ¿Te gustaría salvar al cachorro?\\n\\n# Text for the button that discards the changes or action\\nnegative_button: Descartar\\n\\n# Text for the button that saves the changes or action\\npositive_button: Guardar\\n```'}}\n"
     ]
    },
    {
     "name": "stderr",
     "output_type": "stream",
     "text": [
      "2024-09-12 16:39:13,413 - INFO - HTTP Request: POST https://api.openai.com/v1/chat/completions \"HTTP/1.1 200 OK\"\n",
      "2024-09-12 16:39:13,425 - INFO - translation: \n",
      "```yaml\n",
      "# Title of the dialog box asking a question\n",
      "title: Pregunta\n",
      "\n",
      "# Message asking the user if they want to save the puppy\n",
      "message: ¿Te gustaría salvar al cachorro?\n",
      "\n",
      "# Text for the button that discards the changes or action\n",
      "negative_button: Descartar\n",
      "\n",
      "# Text for the button that saves the changes or action\n",
      "positive_button: Guardar\n",
      "```\n",
      "\n",
      "2024-09-12 16:39:13,427 - INFO - advice: The translation for the positive button, \"Guardar,\" might be misleading in this context. \"Guardar\" typically means \"to save\" in the sense of storing or keeping data, which is more commonly used in applications related to files or settings. Since the context here is about saving a puppy, a more appropriate translation would be \"Salvar,\" which clearly conveys the idea of rescuing or saving a life. This ensures that the user understands the action involves helping a living being rather than performing a data-saving operation.\n"
     ]
    },
    {
     "name": "stdout",
     "output_type": "stream",
     "text": [
      "{'checker': {'messages': [AIMessage(content='The translation for the positive button, \"Guardar,\" might be misleading in this context. \"Guardar\" typically means \"to save\" in the sense of storing or keeping data, which is more commonly used in applications related to files or settings. Since the context here is about saving a puppy, a more appropriate translation would be \"Salvar,\" which clearly conveys the idea of rescuing or saving a life. This ensures that the user understands the action involves helping a living being rather than performing a data-saving operation.', response_metadata={'token_usage': {'completion_tokens': 101, 'prompt_tokens': 203, 'total_tokens': 304}, 'model_name': 'gpt-4o-2024-05-13', 'system_fingerprint': 'fp_25624ae3a5', 'finish_reason': 'stop', 'logprobs': None}, id='run-497a4232-7881-43e5-99df-49f98bfda678-0', usage_metadata={'input_tokens': 203, 'output_tokens': 101, 'total_tokens': 304})], 'advice': 'The translation for the positive button, \"Guardar,\" might be misleading in this context. \"Guardar\" typically means \"to save\" in the sense of storing or keeping data, which is more commonly used in applications related to files or settings. Since the context here is about saving a puppy, a more appropriate translation would be \"Salvar,\" which clearly conveys the idea of rescuing or saving a life. This ensures that the user understands the action involves helping a living being rather than performing a data-saving operation.'}}\n"
     ]
    }
   ],
   "source": [
    "state = State(\n",
    "  messages=[],\n",
    "  contextualized=\"\",\n",
    "  translation=\"\",\n",
    "  advice=\"\"\n",
    ")\n",
    "thread = {\"configurable\": {\"thread_id\": \"1\"}}\n",
    "# response = app.invoke(state, thread)\n",
    "for output in app.stream(state, thread, stream_mode=\"updates\"):\n",
    "    print(output)"
   ]
  },
  {
   "cell_type": "code",
   "execution_count": 14,
   "id": "f67f37a4-8484-44c5-9569-6b018055300e",
   "metadata": {},
   "outputs": [
    {
     "name": "stdin",
     "output_type": "stream",
     "text": [
      "Update any line the that needs changing:  positive_button: Salvar\n"
     ]
    }
   ],
   "source": [
    "user_input = input(\"Update any line the that needs changing: \")"
   ]
  },
  {
   "cell_type": "code",
   "execution_count": 15,
   "id": "0bd7e258-964a-4433-9cab-290837bbf70f",
   "metadata": {},
   "outputs": [
    {
     "name": "stderr",
     "output_type": "stream",
     "text": [
      "2024-09-12 16:40:00,460 - INFO - translation: \n",
      "```yaml\n",
      "# Title of the dialog box asking a question\n",
      "title: Pregunta\n",
      "\n",
      "# Message asking the user if they want to save the puppy\n",
      "message: ¿Te gustaría salvar al cachorro?\n",
      "\n",
      "# Text for the button that discards the changes or action\n",
      "negative_button: Descartar\n",
      "\n",
      "# Text for the button that saves the changes or action\n",
      "positive_button: Salvar\n",
      "```\n",
      "\n",
      "2024-09-12 16:40:00,467 - INFO - advice: The translation for the positive button, \"Guardar,\" might be misleading in this context. \"Guardar\" typically means \"to save\" in the sense of storing or keeping data, which is more commonly used in applications related to files or settings. Since the context here is about saving a puppy, a more appropriate translation would be \"Salvar,\" which clearly conveys the idea of rescuing or saving a life. This ensures that the user understands the action involves helping a living being rather than performing a data-saving operation.\n",
      "2024-09-12 16:40:00,527 - INFO - formatting\n",
      "2024-09-12 16:40:03,240 - INFO - HTTP Request: POST https://api.openai.com/v1/chat/completions \"HTTP/1.1 200 OK\"\n",
      "2024-09-12 16:40:03,271 - INFO - ```strings\n",
      "\"title\" = \"Pregunta\";\n",
      "\"message\" = \"¿Te gustaría salvar al cachorro?\";\n",
      "\"negative_button\" = \"Descartar\";\n",
      "\"positive_button\" = \"Salvar\";\n",
      "```\n"
     ]
    }
   ],
   "source": [
    "import re\n",
    "\n",
    "key = user_input.split(\":\")[0].strip()\n",
    "pattern = rf\"^{key}:.*$\"\n",
    "translation = app.get_state(thread).values[\"translation\"]\n",
    "updated = re.sub(pattern, user_input, translation, flags=re.MULTILINE)\n",
    "\n",
    "app.update_state(thread, {'translation': updated})\n",
    "result = app.invoke(None, thread)\n",
    "formatted = app.get_state(thread).values[\"messages\"][-1].content\n",
    "logging.info(formatted)"
   ]
  },
  {
   "cell_type": "code",
   "execution_count": null,
   "id": "30b0c45d-04ed-4921-b5ef-fb8ec22b1276",
   "metadata": {},
   "outputs": [],
   "source": []
  }
 ],
 "metadata": {
  "kernelspec": {
   "display_name": "Python 3 (ipykernel)",
   "language": "python",
   "name": "python3"
  },
  "language_info": {
   "codemirror_mode": {
    "name": "ipython",
    "version": 3
   },
   "file_extension": ".py",
   "mimetype": "text/x-python",
   "name": "python",
   "nbconvert_exporter": "python",
   "pygments_lexer": "ipython3",
   "version": "3.12.4"
  }
 },
 "nbformat": 4,
 "nbformat_minor": 5
}
