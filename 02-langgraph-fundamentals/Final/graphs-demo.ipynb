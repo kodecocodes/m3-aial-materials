{
 "cells": [
  {
   "cell_type": "code",
   "execution_count": 1,
   "id": "ddd41801-8378-4976-865a-ca9d1fff36f4",
   "metadata": {},
   "outputs": [
    {
     "name": "stdout",
     "output_type": "stream",
     "text": [
      "Requirement already satisfied: langgraph in /Library/Frameworks/Python.framework/Versions/3.12/lib/python3.12/site-packages (0.1.19)\n",
      "Requirement already satisfied: langchain-core<0.3,>=0.2.22 in /Library/Frameworks/Python.framework/Versions/3.12/lib/python3.12/site-packages (from langgraph) (0.2.27)\n",
      "Requirement already satisfied: PyYAML>=5.3 in /Library/Frameworks/Python.framework/Versions/3.12/lib/python3.12/site-packages (from langchain-core<0.3,>=0.2.22->langgraph) (6.0.1)\n",
      "Requirement already satisfied: jsonpatch<2.0,>=1.33 in /Library/Frameworks/Python.framework/Versions/3.12/lib/python3.12/site-packages (from langchain-core<0.3,>=0.2.22->langgraph) (1.33)\n",
      "Requirement already satisfied: langsmith<0.2.0,>=0.1.75 in /Library/Frameworks/Python.framework/Versions/3.12/lib/python3.12/site-packages (from langchain-core<0.3,>=0.2.22->langgraph) (0.1.95)\n",
      "Requirement already satisfied: packaging<25,>=23.2 in /Library/Frameworks/Python.framework/Versions/3.12/lib/python3.12/site-packages (from langchain-core<0.3,>=0.2.22->langgraph) (24.1)\n",
      "Requirement already satisfied: pydantic<3.0.0,>=2.7.4 in /Library/Frameworks/Python.framework/Versions/3.12/lib/python3.12/site-packages (from langchain-core<0.3,>=0.2.22->langgraph) (2.8.2)\n",
      "Requirement already satisfied: tenacity!=8.4.0,<9.0.0,>=8.1.0 in /Library/Frameworks/Python.framework/Versions/3.12/lib/python3.12/site-packages (from langchain-core<0.3,>=0.2.22->langgraph) (8.5.0)\n",
      "Requirement already satisfied: typing-extensions>=4.7 in /Library/Frameworks/Python.framework/Versions/3.12/lib/python3.12/site-packages (from langchain-core<0.3,>=0.2.22->langgraph) (4.12.2)\n",
      "Requirement already satisfied: jsonpointer>=1.9 in /Library/Frameworks/Python.framework/Versions/3.12/lib/python3.12/site-packages (from jsonpatch<2.0,>=1.33->langchain-core<0.3,>=0.2.22->langgraph) (3.0.0)\n",
      "Requirement already satisfied: orjson<4.0.0,>=3.9.14 in /Library/Frameworks/Python.framework/Versions/3.12/lib/python3.12/site-packages (from langsmith<0.2.0,>=0.1.75->langchain-core<0.3,>=0.2.22->langgraph) (3.10.6)\n",
      "Requirement already satisfied: requests<3,>=2 in /Library/Frameworks/Python.framework/Versions/3.12/lib/python3.12/site-packages (from langsmith<0.2.0,>=0.1.75->langchain-core<0.3,>=0.2.22->langgraph) (2.32.3)\n",
      "Requirement already satisfied: annotated-types>=0.4.0 in /Library/Frameworks/Python.framework/Versions/3.12/lib/python3.12/site-packages (from pydantic<3.0.0,>=2.7.4->langchain-core<0.3,>=0.2.22->langgraph) (0.7.0)\n",
      "Requirement already satisfied: pydantic-core==2.20.1 in /Library/Frameworks/Python.framework/Versions/3.12/lib/python3.12/site-packages (from pydantic<3.0.0,>=2.7.4->langchain-core<0.3,>=0.2.22->langgraph) (2.20.1)\n",
      "Requirement already satisfied: charset-normalizer<4,>=2 in /Library/Frameworks/Python.framework/Versions/3.12/lib/python3.12/site-packages (from requests<3,>=2->langsmith<0.2.0,>=0.1.75->langchain-core<0.3,>=0.2.22->langgraph) (3.3.2)\n",
      "Requirement already satisfied: idna<4,>=2.5 in /Library/Frameworks/Python.framework/Versions/3.12/lib/python3.12/site-packages (from requests<3,>=2->langsmith<0.2.0,>=0.1.75->langchain-core<0.3,>=0.2.22->langgraph) (2.10)\n",
      "Requirement already satisfied: urllib3<3,>=1.21.1 in /Library/Frameworks/Python.framework/Versions/3.12/lib/python3.12/site-packages (from requests<3,>=2->langsmith<0.2.0,>=0.1.75->langchain-core<0.3,>=0.2.22->langgraph) (2.2.2)\n",
      "Requirement already satisfied: certifi>=2017.4.17 in /Library/Frameworks/Python.framework/Versions/3.12/lib/python3.12/site-packages (from requests<3,>=2->langsmith<0.2.0,>=0.1.75->langchain-core<0.3,>=0.2.22->langgraph) (2024.7.4)\n"
     ]
    }
   ],
   "source": [
    "!pip install langgraph"
   ]
  },
  {
   "cell_type": "code",
   "execution_count": 2,
   "id": "b747234f-4af2-402a-b769-a2bffe02d33b",
   "metadata": {},
   "outputs": [],
   "source": [
    "def greet(input):\n",
    "    return f\"Hello, {input}\"\n",
    "\n",
    "def enthusiastic(input):\n",
    "    return f\"{input}!\""
   ]
  },
  {
   "cell_type": "code",
   "execution_count": 24,
   "id": "570a14c3-214e-47fb-8a30-3e6d8299d04d",
   "metadata": {},
   "outputs": [],
   "source": [
    "from langgraph.graph import Graph\n",
    "\n",
    "graph = Graph()"
   ]
  },
  {
   "cell_type": "code",
   "execution_count": 25,
   "id": "1ab8c381-7d5d-46a9-847a-3ee179c9577b",
   "metadata": {},
   "outputs": [],
   "source": [
    "graph.add_node(\"greeting\", greet)\n",
    "graph.add_node(\"enthusiastic\", enthusiastic)"
   ]
  },
  {
   "cell_type": "code",
   "execution_count": 26,
   "id": "95085f88-c327-471f-b39c-495ac9baa59c",
   "metadata": {},
   "outputs": [],
   "source": [
    "graph.add_edge(\"greeting\", \"enthusiastic\")"
   ]
  },
  {
   "cell_type": "code",
   "execution_count": 27,
   "id": "58de4ce6-07e4-4836-87bb-6ce556328496",
   "metadata": {},
   "outputs": [],
   "source": [
    "# from langgraph.graph import START, END\n",
    "\n",
    "# graph.add_edge(START, \"greeting\") \n",
    "# graph.add_edge(\"enthusiastic\", END)"
   ]
  },
  {
   "cell_type": "code",
   "execution_count": 28,
   "id": "6a740272-fe53-462f-98c4-b11ef92c7611",
   "metadata": {},
   "outputs": [],
   "source": [
    "graph.set_entry_point(\"greeting\")\n",
    "graph.set_finish_point(\"enthusiastic\")"
   ]
  },
  {
   "cell_type": "code",
   "execution_count": 29,
   "id": "d11be515-79fd-4ba1-b14e-7e02af1dd9df",
   "metadata": {},
   "outputs": [],
   "source": [
    "app = graph.compile()"
   ]
  },
  {
   "cell_type": "code",
   "execution_count": 30,
   "id": "568881ae-0a54-47d8-bde6-f38fe51c5fa3",
   "metadata": {},
   "outputs": [
    {
     "data": {
      "text/plain": [
       "'Hello, World!'"
      ]
     },
     "execution_count": 30,
     "metadata": {},
     "output_type": "execute_result"
    }
   ],
   "source": [
    "app.invoke(\"World\")"
   ]
  },
  {
   "cell_type": "code",
   "execution_count": null,
   "id": "25edd2a9-de49-4938-87b7-6e058dee4115",
   "metadata": {},
   "outputs": [],
   "source": []
  }
 ],
 "metadata": {
  "kernelspec": {
   "display_name": "Python 3 (ipykernel)",
   "language": "python",
   "name": "python3"
  },
  "language_info": {
   "codemirror_mode": {
    "name": "ipython",
    "version": 3
   },
   "file_extension": ".py",
   "mimetype": "text/x-python",
   "name": "python",
   "nbconvert_exporter": "python",
   "pygments_lexer": "ipython3",
   "version": "3.12.4"
  }
 },
 "nbformat": 4,
 "nbformat_minor": 5
}
