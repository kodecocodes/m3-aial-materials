{
 "cells": [
  {
   "cell_type": "code",
   "execution_count": 26,
   "id": "6055c584-3fea-4d4d-9e26-ba3da7d07186",
   "metadata": {},
   "outputs": [
    {
     "data": {
      "text/plain": [
       "True"
      ]
     },
     "execution_count": 26,
     "metadata": {},
     "output_type": "execute_result"
    }
   ],
   "source": [
    "from dotenv import load_dotenv\n",
    "load_dotenv()"
   ]
  },
  {
   "cell_type": "code",
   "execution_count": 27,
   "id": "f6e60311-b0e9-47ad-8b25-1bd63b97fbfe",
   "metadata": {},
   "outputs": [],
   "source": [
    "import os\n",
    "from openai import OpenAI\n",
    "\n",
    "llm = OpenAI(api_key=os.getenv(\"OPENAI_API_KEY\"))"
   ]
  },
  {
   "cell_type": "code",
   "execution_count": 28,
   "id": "2900b320-8a61-4edf-9990-a08601495153",
   "metadata": {},
   "outputs": [],
   "source": [
    "def translate(text):\n",
    "    if text == \"hello\":\n",
    "        return \"hola\"\n",
    "    elif text == \"goodbye\":\n",
    "        return \"adiós\"\n",
    "    else:\n",
    "        return \"UNKNOWN\""
   ]
  },
  {
   "cell_type": "code",
   "execution_count": 29,
   "id": "9200ba72-b563-4d3c-891a-d8f6fc177eae",
   "metadata": {},
   "outputs": [],
   "source": [
    "def extract(user_input):\n",
    "    \n",
    "    prompt = \"\"\"Analyze if the user is asking for a translation. \n",
    "      If so, respond with only the text to translate. \n",
    "      Do not translate the text yourself. Otherwise, respond normally. \n",
    "      For example, if the user says 'How do you say hello in Spanish?' \n",
    "      you should respond 'hello' \"\"\"\n",
    "    \n",
    "    completion = llm.chat.completions.create(\n",
    "      model=\"gpt-4o\",\n",
    "      messages=[\n",
    "        {\"role\": \"system\", \"content\": prompt},\n",
    "        {\"role\": \"user\", \"content\": user_input}\n",
    "      ]\n",
    "    )\n",
    "    \n",
    "    return completion.choices[0].message.content"
   ]
  },
  {
   "cell_type": "code",
   "execution_count": 30,
   "id": "d383a6c6-3701-435f-b3ee-76542279f84e",
   "metadata": {},
   "outputs": [],
   "source": [
    "from langgraph.graph import Graph\n",
    "\n",
    "graph = Graph()\n",
    "\n",
    "graph.add_node(\"extractor\", extract)\n",
    "graph.add_node(\"translator\", translate)\n",
    "\n",
    "graph.add_edge(\"extractor\", \"translator\")\n",
    "\n",
    "graph.set_entry_point(\"extractor\")\n",
    "graph.set_finish_point(\"translator\")\n",
    "\n",
    "app = graph.compile()"
   ]
  },
  {
   "cell_type": "code",
   "execution_count": 31,
   "id": "8c0ea264-8006-4091-b9b0-282d44d1882a",
   "metadata": {},
   "outputs": [
    {
     "name": "stdout",
     "output_type": "stream",
     "text": [
      "adiós\n"
     ]
    }
   ],
   "source": [
    "user_input = \"How do you say goodbye in Spanish?\"\n",
    "result = app.invoke(user_input)\n",
    "print(result)"
   ]
  },
  {
   "cell_type": "code",
   "execution_count": null,
   "id": "7a40a13f-da86-4d7f-9895-a87cee5040c4",
   "metadata": {},
   "outputs": [],
   "source": []
  }
 ],
 "metadata": {
  "kernelspec": {
   "display_name": "Python 3 (ipykernel)",
   "language": "python",
   "name": "python3"
  },
  "language_info": {
   "codemirror_mode": {
    "name": "ipython",
    "version": 3
   },
   "file_extension": ".py",
   "mimetype": "text/x-python",
   "name": "python",
   "nbconvert_exporter": "python",
   "pygments_lexer": "ipython3",
   "version": "3.12.4"
  }
 },
 "nbformat": 4,
 "nbformat_minor": 5
}
