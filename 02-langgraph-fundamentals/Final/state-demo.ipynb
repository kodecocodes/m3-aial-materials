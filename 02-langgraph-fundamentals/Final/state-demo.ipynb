{
 "cells": [
  {
   "cell_type": "code",
   "execution_count": 39,
   "id": "8046a283-5bf2-4d4f-9baa-e90dc5f4052b",
   "metadata": {},
   "outputs": [],
   "source": [
    "from typing import TypedDict, Annotated\n",
    "from operator import add\n",
    "\n",
    "class PizzaState(TypedDict):\n",
    "  toppings: Annotated[list[str], add]\n",
    "  quantity: int"
   ]
  },
  {
   "cell_type": "code",
   "execution_count": 40,
   "id": "85ccfd7b-d2d6-4eb2-b545-4c7dfff7e835",
   "metadata": {},
   "outputs": [],
   "source": [
    "def add_cheese(state):\n",
    "  quantity = state[\"quantity\"] + 1\n",
    "  return {\"toppings\": [\"cheese\"], \"quantity\": quantity}\n",
    "\n",
    "def add_meat(state):\n",
    "  quantity = state[\"quantity\"] + 1\n",
    "  return {\"toppings\": [\"meat\"], \"quantity\": quantity}"
   ]
  },
  {
   "cell_type": "code",
   "execution_count": 42,
   "id": "ef59fd47-9bc0-4eb4-a0ca-3ddeb9190106",
   "metadata": {},
   "outputs": [
    {
     "data": {
      "text/plain": [
       "{'toppings': ['cheese', 'meat'], 'quantity': 2}"
      ]
     },
     "execution_count": 42,
     "metadata": {},
     "output_type": "execute_result"
    }
   ],
   "source": [
    "from langgraph.graph import StateGraph\n",
    "\n",
    "graph = StateGraph(PizzaState)\n",
    "\n",
    "graph.add_node(\"cheese\", add_cheese)\n",
    "graph.add_node(\"meat\", add_meat)\n",
    "\n",
    "graph.add_edge(\"cheese\", \"meat\")\n",
    "\n",
    "graph.set_entry_point(\"cheese\")\n",
    "graph.set_finish_point(\"meat\")\n",
    "\n",
    "app = graph.compile()\n",
    "\n",
    "initial_state = {\"toppings\": [], \"quantity\": 0}\n",
    "app.invoke(initial_state)"
   ]
  },
  {
   "cell_type": "code",
   "execution_count": null,
   "id": "d4abbc43-206a-40dd-ac6c-aaa3d5bf278c",
   "metadata": {},
   "outputs": [],
   "source": []
  }
 ],
 "metadata": {
  "kernelspec": {
   "display_name": "Python 3 (ipykernel)",
   "language": "python",
   "name": "python3"
  },
  "language_info": {
   "codemirror_mode": {
    "name": "ipython",
    "version": 3
   },
   "file_extension": ".py",
   "mimetype": "text/x-python",
   "name": "python",
   "nbconvert_exporter": "python",
   "pygments_lexer": "ipython3",
   "version": "3.12.4"
  }
 },
 "nbformat": 4,
 "nbformat_minor": 5
}
