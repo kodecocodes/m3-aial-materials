{
 "cells": [
  {
   "cell_type": "code",
   "execution_count": 1,
   "id": "a7bdf486-be2f-4f02-9072-794abc940b3f",
   "metadata": {},
   "outputs": [],
   "source": [
    "def writer(input):\n",
    "    return \"an essay\""
   ]
  },
  {
   "cell_type": "code",
   "execution_count": 2,
   "id": "ab848d04-1a14-456a-a065-d8eca8c912ad",
   "metadata": {},
   "outputs": [],
   "source": [
    "revisions = 0\n",
    "\n",
    "def reviser(input):\n",
    "  global revisions\n",
    "  revisions = revisions + 1\n",
    "  print(f\"revision number {revisions}\")\n",
    "  return input + \" revisions\""
   ]
  },
  {
   "cell_type": "code",
   "execution_count": 3,
   "id": "6babc209-0a3c-4694-b2cf-781ba8882a77",
   "metadata": {},
   "outputs": [],
   "source": [
    "def checker(input):\n",
    "  if revisions >= 3:\n",
    "    return \"good\"\n",
    "  else:\n",
    "    return \"feedback\""
   ]
  },
  {
   "cell_type": "code",
   "execution_count": 4,
   "id": "0cef678c-d042-4c09-9dca-22babda10ef2",
   "metadata": {},
   "outputs": [],
   "source": [
    "from langgraph.graph import Graph, START, END\n",
    "\n",
    "graph = Graph()\n",
    "graph.add_node(\"writer\", writer)\n",
    "graph.add_node(\"reviser\", reviser)\n",
    "graph.add_node(\"checker\", checker)"
   ]
  },
  {
   "cell_type": "code",
   "execution_count": 5,
   "id": "f628567a-2f78-4a9f-b03f-7a0f11a2bb1a",
   "metadata": {},
   "outputs": [],
   "source": [
    "graph.add_edge(START, \"writer\")\n",
    "graph.add_edge(\"writer\", \"checker\")\n",
    "graph.add_edge(\"reviser\", \"checker\")"
   ]
  },
  {
   "cell_type": "code",
   "execution_count": 6,
   "id": "a798a6e1-3f2c-4ffd-876a-1428fb3d0f7f",
   "metadata": {},
   "outputs": [],
   "source": [
    "def check(input):\n",
    "    if input == \"good\":\n",
    "        return \"pass\"\n",
    "    else:\n",
    "        return \"fail\""
   ]
  },
  {
   "cell_type": "code",
   "execution_count": 7,
   "id": "d3720d6d-b3fd-4503-8fa8-d51d8c8de227",
   "metadata": {},
   "outputs": [],
   "source": [
    "graph.add_conditional_edges(\n",
    "  \"checker\", \n",
    "  check,\n",
    "  {\n",
    "    \"fail\": \"reviser\", \n",
    "    \"pass\": END # __end__\n",
    "  }\n",
    ")"
   ]
  },
  {
   "cell_type": "code",
   "execution_count": 9,
   "id": "b2547314-368f-41f2-862f-41c5a353edcb",
   "metadata": {},
   "outputs": [],
   "source": [
    "app = graph.compile()"
   ]
  },
  {
   "cell_type": "code",
   "execution_count": 10,
   "id": "58ecc81e-c190-4f41-8d25-6df7a6aedd25",
   "metadata": {},
   "outputs": [
    {
     "data": {
      "image/jpeg": "[encoded data removed]",
      "text/plain": [
       "<IPython.core.display.Image object>"
      ]
     },
     "metadata": {},
     "output_type": "display_data"
    }
   ],
   "source": [
    "from IPython.display import Image, display\n",
    "\n",
    "display(Image(app.get_graph().draw_mermaid_png()))"
   ]
  },
  {
   "cell_type": "code",
   "execution_count": null,
   "id": "8cabbd48-9b99-41c4-89c1-48e8f3084c5e",
   "metadata": {},
   "outputs": [],
   "source": []
  }
 ],
 "metadata": {
  "kernelspec": {
   "display_name": "Python 3 (ipykernel)",
   "language": "python",
   "name": "python3"
  },
  "language_info": {
   "codemirror_mode": {
    "name": "ipython",
    "version": 3
   },
   "file_extension": ".py",
   "mimetype": "text/x-python",
   "name": "python",
   "nbconvert_exporter": "python",
   "pygments_lexer": "ipython3",
   "version": "3.12.4"
  }
 },
 "nbformat": 4,
 "nbformat_minor": 5
}
